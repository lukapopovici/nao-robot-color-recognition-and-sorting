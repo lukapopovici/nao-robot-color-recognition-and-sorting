{
 "cells": [
  {
   "cell_type": "markdown",
   "metadata": {
    "id": "rlz4QiAjRLtj"
   },
   "source": [
    "# Librarii importate"
   ]
  },
  {
   "cell_type": "code",
   "execution_count": 20,
   "metadata": {
    "executionInfo": {
     "elapsed": 870,
     "status": "ok",
     "timestamp": 1734908451560,
     "user": {
      "displayName": "Luka Popovici",
      "userId": "09481848447209899218"
     },
     "user_tz": -120
    },
    "id": "o729Hsw1wb3j"
   },
   "outputs": [],
   "source": [
    "import os\n",
    "import pandas as pd\n",
    "from sklearn.model_selection import train_test_split\n"
   ]
  },
  {
   "cell_type": "markdown",
   "metadata": {
    "id": "ik-6YtowRKCg"
   },
   "source": [
    "# Date din fisier declarate manual intr-un dictionar"
   ]
  },
  {
   "cell_type": "code",
   "execution_count": 21,
   "metadata": {
    "executionInfo": {
     "elapsed": 3,
     "status": "ok",
     "timestamp": 1734908451560,
     "user": {
      "displayName": "Luka Popovici",
      "userId": "09481848447209899218"
     },
     "user_tz": -120
    },
    "id": "4PemZBOMxU1F"
   },
   "outputs": [],
   "source": [
    "data = {\n",
    "    'R': [255, 0, 0, 255, 0, 0, 192, 128, 0, 25,122],\n",
    "    'G': [0, 255, 0, 255, 255, 0, 192, 128, 0, 255,122],\n",
    "    'B': [0, 0, 255, 0, 255, 255, 192, 128, 0, 255,122],\n",
    "    'Color Name': ['Red', 'Green', 'Blue', 'Yellow', 'Cyan', 'Magenta', 'Silver', 'Gray', 'Black', 'White','HHHH']\n",
    "}\n"
   ]
  },
  {
   "cell_type": "markdown",
   "metadata": {
    "id": "ZdU1-C2vRYv0"
   },
   "source": []
  },
  {
   "cell_type": "markdown",
   "metadata": {
    "id": "uSSV7hLoSAYU"
   },
   "source": [
    "# Functii pentru manipularea fisierului csv"
   ]
  },
  {
   "cell_type": "code",
   "execution_count": 22,
   "metadata": {
    "executionInfo": {
     "elapsed": 4,
     "status": "ok",
     "timestamp": 1734908451561,
     "user": {
      "displayName": "Luka Popovici",
      "userId": "09481848447209899218"
     },
     "user_tz": -120
    },
    "id": "9meoI_QrSGUG"
   },
   "outputs": [],
   "source": [
    "def create_csv(file_path):\n",
    "    if os.path.exists(file_path):\n",
    "        os.remove(file_path)\n",
    "\n",
    "    df = pd.DataFrame(data)\n",
    "    df.to_csv(file_path, index=False)\n",
    "    print(f\"'{file_path}' has been created.\")\n",
    "\n",
    "def load_data(file_path):\n",
    "    data = pd.read_csv(file_path)\n",
    "    X = data.iloc[:, :3].values\n",
    "    y = data.iloc[:, 3].values\n",
    "    return X, y"
   ]
  },
  {
   "cell_type": "markdown",
   "metadata": {
    "id": "gMWMtpZzTKQ-"
   },
   "source": [
    "# Preprocesare\n"
   ]
  },
  {
   "cell_type": "code",
   "execution_count": 23,
   "metadata": {
    "executionInfo": {
     "elapsed": 4,
     "status": "ok",
     "timestamp": 1734908451561,
     "user": {
      "displayName": "Luka Popovici",
      "userId": "09481848447209899218"
     },
     "user_tz": -120
    },
    "id": "2fWhDWXITKuP"
   },
   "outputs": [],
   "source": [
    "def preprocess_data(X, y):\n",
    "    from sklearn.preprocessing import LabelEncoder\n",
    "    from tensorflow.keras.utils import to_categorical\n",
    "\n",
    "    label_encoder = LabelEncoder()\n",
    "    y_encoded = label_encoder.fit_transform(y)  # bam bam bam integeri\n",
    "    y_categorical = to_categorical(y_encoded)  # One-hot\n",
    "    return X / 255.0, y_categorical, label_encoder"
   ]
  },
  {
   "cell_type": "markdown",
   "metadata": {
    "id": "0Oc10T2yUji5"
   },
   "source": [
    "# Model"
   ]
  },
  {
   "cell_type": "code",
   "execution_count": 24,
   "metadata": {
    "executionInfo": {
     "elapsed": 4,
     "status": "ok",
     "timestamp": 1734908451561,
     "user": {
      "displayName": "Luka Popovici",
      "userId": "09481848447209899218"
     },
     "user_tz": -120
    },
    "id": "2AOhi-PeUlia"
   },
   "outputs": [],
   "source": [
    "def build_model(input_shape, num_classes):\n",
    "    import tensorflow as tf\n",
    "\n",
    "    model = tf.keras.Sequential([\n",
    "        tf.keras.layers.Dense(128, activation='sigmoid', input_shape=input_shape),\n",
    "        tf.keras.layers.Dense(64, activation='sigmoid'),\n",
    "        tf.keras.layers.Dense(num_classes, activation='relu')\n",
    "    ])\n",
    "    model.compile(optimizer='RMSprop',\n",
    "                  loss='categorical_crossentropy',\n",
    "                  metrics=['accuracy'])\n",
    "    return model"
   ]
  },
  {
   "cell_type": "markdown",
   "metadata": {
    "id": "p94U0nx3VClz"
   },
   "source": [
    "# Functie de antrenare"
   ]
  },
  {
   "cell_type": "code",
   "execution_count": 25,
   "metadata": {
    "executionInfo": {
     "elapsed": 4,
     "status": "ok",
     "timestamp": 1734908451561,
     "user": {
      "displayName": "Luka Popovici",
      "userId": "09481848447209899218"
     },
     "user_tz": -120
    },
    "id": "qiIp7rLcVGbg"
   },
   "outputs": [],
   "source": [
    "def train_model(model, X_train, y_train, X_val, y_val, epochs=50, batch_size=32):\n",
    "    history = model.fit(\n",
    "        X_train, y_train,\n",
    "        validation_data=(X_val, y_val),\n",
    "        epochs=epochs,\n",
    "        batch_size=batch_size\n",
    "    )\n",
    "    return history"
   ]
  },
  {
   "cell_type": "markdown",
   "metadata": {
    "id": "PVJo8UKgVuwa"
   },
   "source": [
    "# Functia main()"
   ]
  },
  {
   "cell_type": "code",
   "execution_count": 26,
   "metadata": {
    "executionInfo": {
     "elapsed": 3,
     "status": "ok",
     "timestamp": 1734908451561,
     "user": {
      "displayName": "Luka Popovici",
      "userId": "09481848447209899218"
     },
     "user_tz": -120
    },
    "id": "zEBGOxnmVxry"
   },
   "outputs": [],
   "source": [
    "def main(file_path):\n",
    "    create_csv(file_path)\n",
    "    X, y = load_data(file_path)\n",
    "    X_preprocessed, y_categorical, label_encoder = preprocess_data(X, y)\n",
    "    X_train, X_val, y_train, y_val = train_test_split(X_preprocessed, y_categorical, test_size=0.2, random_state=69)\n",
    "\n",
    "    input_shape = (X_train.shape[1],)\n",
    "    num_classes = y_categorical.shape[1]\n",
    "    model = build_model(input_shape, num_classes)\n",
    "\n",
    "    history = train_model(model, X_train, y_train, X_val, y_val, epochs=50, batch_size=32)\n",
    "\n",
    "    # SALVAM MODELUL\n",
    "    model.save('trained_model.keras')\n",
    "\n",
    "    print(\"Training complete. Model saved to 'trained_model.keras'.\")\n"
   ]
  },
  {
   "cell_type": "code",
   "execution_count": null,
   "metadata": {
    "colab": {
     "base_uri": "https://localhost:8080/"
    },
    "executionInfo": {
     "elapsed": 4630,
     "status": "ok",
     "timestamp": 1734908456188,
     "user": {
      "displayName": "Luka Popovici",
      "userId": "09481848447209899218"
     },
     "user_tz": -120
    },
    "id": "RWjLp9zjWidK",
    "outputId": "8cda1202-316f-4e30-a940-5b99f0d13d59"
   },
   "outputs": [],
   "source": [
    "main('colors.csv')"
   ]
  }
 ],
 "metadata": {
  "colab": {
   "authorship_tag": "ABX9TyPz279hVe/EvluZGv2cFL0o",
   "provenance": []
  },
  "kernelspec": {
   "display_name": "Python 3",
   "name": "python3"
  },
  "language_info": {
   "name": "python"
  }
 },
 "nbformat": 4,
 "nbformat_minor": 0
}
